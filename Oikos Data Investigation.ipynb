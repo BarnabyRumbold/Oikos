{
 "cells": [
  {
   "cell_type": "markdown",
   "id": "3dd58bdb",
   "metadata": {},
   "source": [
    "# Oikos Data Investigation\n",
    "<br>\n",
    "This is an initial investigation into two data sets provided by Oikos. \n",
    "<br>\n",
    "<br>The data looks at the impact of training for individuals and households in Northern Mozambique to enact positive change in terms of their financial situation. The focus of this investigation is to look into the data quality and see what cleaning is required, undertaking an initial analysis, as well as considering the potential for merging both data sets.\n",
    "<br>\n",
    "<br>However, on exploration, there are several problems with the data that need to be addressed. There are a number of discrepancies, internally with the information held across both data sets, and with the data when validating externally. As a result, significant further cleaning is required, such as geographical mapping, and further consultation with Oikos to clarify translations and potentially missing data."
   ]
  },
  {
   "cell_type": "markdown",
   "id": "54890ba0",
   "metadata": {},
   "source": [
    "<br>Let's first import packages"
   ]
  },
  {
   "cell_type": "code",
   "execution_count": 39,
   "id": "bf8682a9",
   "metadata": {},
   "outputs": [],
   "source": [
    "import pandas as pd\n",
    "import numpy as np\n",
    "import matplotlib.pyplot as plt\n",
    "from math import nan, isnan"
   ]
  },
  {
   "cell_type": "markdown",
   "id": "ebba6f02",
   "metadata": {},
   "source": [
    "The data is split into two data sets, let's look at the first."
   ]
  },
  {
   "cell_type": "code",
   "execution_count": 40,
   "id": "498d40a6",
   "metadata": {},
   "outputs": [],
   "source": [
    "path = r\"C:\\Users\\Barna\\Desktop\\Oikos Data\\REFP 03_Data final_21Dez2021_for CorrelAid.xlsx\"\n",
    "data_old = pd.read_excel(path)\n",
    "#print(data.head())"
   ]
  },
  {
   "cell_type": "markdown",
   "id": "1f8d1435",
   "metadata": {},
   "source": [
    "The first thing to notice is that the column titles are Portuguese, fortunately a translation has been provided. Let's rename the columns using this. We need to do this first as it is hard to spot any glaring errors without understanding what is contained in the data. Let's check the length to make sure they match. "
   ]
  },
  {
   "cell_type": "code",
   "execution_count": 41,
   "id": "91260b32",
   "metadata": {},
   "outputs": [
    {
     "name": "stdout",
     "output_type": "stream",
     "text": [
      "66\n",
      "66\n"
     ]
    }
   ],
   "source": [
    "sheet = \"Variables\"\n",
    "translation_data = pd.read_excel(path, sheet)\n",
    "columns = list(translation_data[\"Meaning\"])\n",
    "print(len(columns))\n",
    "print(len(data_old.columns))"
   ]
  },
  {
   "cell_type": "markdown",
   "id": "0791d7f2",
   "metadata": {},
   "source": [
    "Now let's rename the columns with their English translation."
   ]
  },
  {
   "cell_type": "code",
   "execution_count": 42,
   "id": "190afdde",
   "metadata": {},
   "outputs": [],
   "source": [
    "data_old.columns = columns\n",
    "#print(data.head)"
   ]
  },
  {
   "cell_type": "markdown",
   "id": "5a80e034",
   "metadata": {},
   "source": [
    "Let's also import the other data set as we want to merge these at some point and so it is helpful to be able to understand what is contained in both. This data set also has Portuguese names too and though there is a translation, unfortunately this doesn't map exactly as the \"picture URL\" field has been left blank. We can edit the initial excel file must faster than creating a mapping dictionary and so, for the purpose of initial exploratory analysis we can do this, then import the data and translate the column titles below. "
   ]
  },
  {
   "cell_type": "code",
   "execution_count": 43,
   "id": "8d39d18b",
   "metadata": {},
   "outputs": [],
   "source": [
    "path = r\"C:\\Users\\Barna\\Desktop\\Oikos Data\\REFP10_v2_graduaçao2_Ago2022_for Correlaid.xlsx\"\n",
    "data_recent = pd.read_excel(path)\n",
    "sheet = \"Variables\"\n",
    "translation_data = pd.read_excel(path, sheet)\n",
    "translation_data.columns = [\"Portuguese\", \"Type\", \"English\"]\n",
    "columns = list(translation_data[\"English\"])\n",
    "columns2 = [x for x in columns if str(x) != 'nan']\n",
    "# print(columns2)\n",
    "# print(data_recent.columns)\n",
    "data_recent.columns = columns2\n",
    "# print(data.head())"
   ]
  },
  {
   "cell_type": "markdown",
   "id": "f9db7116",
   "metadata": {},
   "source": [
    "Now we can begin investigating cleaning issues, let's look at the data across both sets, from left to right columns investigating issues and highlighting any obvious issues below:\n",
    "<br>\n",
    "<br>The first issue seems to be with the \"Start\" column as this doesn't match across data sets. The \"Start\" column in the first data does not have a corresponding \"End\" date as in the second data set, which makes these columns:\n",
    "<br>\n",
    "<br>a) Difficult to merge\n",
    "<br>b) Difficult to provide contextual analysis on as this \"Start\" and \"End\" date refer to engagement in the Oikos programme. \n",
    "<br>\n",
    "<br>In the second data set there is a column: \"Nível de estudos finalizados\" with an English translation of:\n",
    "<br>\"Academics: \n",
    "<br>Sem estudos=Without studies(non literated)\n",
    "<br>Alfabetizaçao concluída (Adult alphabetization done)\n",
    "<br>Até 4ª classe concluída (4 years completed)\n",
    "<br>Até 7ª classe concluída (7 year completed)\n",
    "<br>Até 10ª classe concluída (10 years completed)\n",
    "<br>Mais de 10ª classe ou ensino técnico (more than 10 years or technical studies)\" \n",
    "<br>This column is not present in the first data set.\n",
    "<br>\n",
    "<br>The further we get through these two datasets it is clear that there is a big disparity between recorded data across both. The main difference is that the second data set has clear markers for participation in the programme grouped together and called:\n",
    "<br>\n",
    "<br>GRADUATION STEP: 01 PARTICIPATION\n",
    "<br>GRADUATION STEP: 02 BUSINESS PLAN\n",
    "<br>GRADUATION STEP: 03 SAVINGS\n",
    "<br>GRADUATION STEP: 04 BUSINESS START UP\n",
    "<br>GRADUATION STEP: 05 LIFE IMPROVEMENT\n",
    "<br> \n",
    "<br>This grouping, and the values contained within seem to mostly not be apparent in the first data set. There is also a discrepancy between the first data set, containing \"deficiency\" columns, that are not apparent in the second data set. This seems significant information as it talks about the socio-economic situation of participants of the programme as well as other contextual information.This isn't an issue for every row (indicating an individual) in the dataset as many are present across both, however there are cases where we have rows only present in the first data set with no further information corresponding in the second, more informative data set.\n",
    "<br>\n",
    "<br>Merging these two data sets is thus going to be really difficult due to there being a discrepancy in the information contained within. Essentially one data set seems to be taking a record of a a group of individual's current situation, whereas the other is providing data on the impact of interventions for a different group of individuals. This would not be an issue to have different information, but as they occasionally cover different time periods and participants it is difficult to draw conclusions covering both. \n",
    "<br>\n",
    "<br>This will need to be discussed in the next meeting with Oikos. "
   ]
  },
  {
   "cell_type": "markdown",
   "id": "95ae45ed",
   "metadata": {},
   "source": [
    "# First Data Set\n",
    "<br>\n",
    "For now, lets undertake some initial exploratory analysis of each data set in turn to explore data quality and potential concerns. Let's first explore the first data set and look at what columns may be important that we can explore for quality. Let's check:\n",
    "<br>\n",
    "<br>Geographical quality - do place names match to external locations \n",
    "<br>Numeric quality - any outliers or inappropriate nulls\n",
    "<br>Deficiency columns - what do these indicate? This granularity has been lost in the translation and may be significant."
   ]
  },
  {
   "cell_type": "code",
   "execution_count": 44,
   "id": "a3e55aca",
   "metadata": {},
   "outputs": [],
   "source": [
    "# print(data_old.columns)"
   ]
  },
  {
   "cell_type": "markdown",
   "id": "32c00a5e",
   "metadata": {},
   "source": [
    "There are three identified localities that are translate to \"Admin level 5\" in the data set. Let's check that the mapping of these fits with external data."
   ]
  },
  {
   "cell_type": "code",
   "execution_count": 45,
   "id": "f83ee94f",
   "metadata": {},
   "outputs": [
    {
     "name": "stdout",
     "output_type": "stream",
     "text": [
      "Meluluca           191\n",
      "Choulue            184\n",
      "Milamba            142\n",
      "Caramaja Napome    107\n",
      "Muaja              102\n",
      "Cholue              98\n",
      "Salaua              90\n",
      "Metoro              87\n",
      "Mecolene            81\n",
      "Maueia              71\n",
      "Chissaua            71\n",
      "Meculane            13\n",
      "Lutuesse             3\n",
      "Nassupia             3\n",
      "Chissimbere          2\n",
      "Negoro               2\n",
      "Calipo sede          2\n",
      "Nahopa               2\n",
      "Nacuia               1\n",
      "Muaria               1\n",
      "Nathuco              1\n",
      "Milapane             1\n",
      "Nampui               1\n",
      "Massangulo sede      1\n",
      "Cava                 1\n",
      "Mutivaze             1\n",
      "Lissiete sede        1\n",
      "Nailocone            1\n",
      "Cazuzu               1\n",
      "Nacocolo             1\n",
      "Chamba               1\n",
      "Mulhaniua            1\n",
      "Namiwi               1\n",
      "Lurio sede           1\n",
      "Name: Admin level 5, dtype: int64\n"
     ]
    }
   ],
   "source": [
    "value_counts = data_old[\"Admin level 5\"].value_counts()\n",
    "print(value_counts)"
   ]
  },
  {
   "cell_type": "markdown",
   "id": "932a6854",
   "metadata": {},
   "source": [
    "Let's now import external geographical data to check that this list matches. Our external data set is taken from the Humanitarian Data Exchange and provides geographical information we need: https://data.humdata.org/dataset/cod-ab-moz "
   ]
  },
  {
   "cell_type": "code",
   "execution_count": 46,
   "id": "e96b8cbf",
   "metadata": {},
   "outputs": [],
   "source": [
    "external_geo = pd.read_excel(r\"C:\\Users\\Barna\\Desktop\\Oikos Data\\moz_adminboundaries_tabulardata.xlsx\")\n",
    "external_admin = external_geo[\"admin3Name_pt\"]"
   ]
  },
  {
   "cell_type": "markdown",
   "id": "597b0fe5",
   "metadata": {},
   "source": [
    "Now let's check to see if there are values present and whether these need to be changed. We can also strip whitespace to ensure this doesn't cause problems with our matching. Another issue is the level of \"admin\" that is required. The external data set defines this level of data as level 3, but the Oikos data similar place names as level 5. "
   ]
  },
  {
   "cell_type": "code",
   "execution_count": 47,
   "id": "980885ed",
   "metadata": {},
   "outputs": [
    {
     "name": "stdout",
     "output_type": "stream",
     "text": [
      "34\n"
     ]
    }
   ],
   "source": [
    "stripped_old = data_old[\"Admin level 5\"].str.strip()\n",
    "external_admin = external_admin.str.strip()\n",
    "difference = set(stripped_old) - set(external_admin)\n",
    "print(len(difference))"
   ]
  },
  {
   "cell_type": "markdown",
   "id": "db19e824",
   "metadata": {},
   "source": [
    "So, only one value matches our external data set. From a quick look at some of the above table, we can see that the values contained within the value_counts table are present in the external data set but have slightly different naming. A mapping dictionary thus needs to be made. After this we can then see if the lat/lon data matches to enable choropleths and other visuals."
   ]
  },
  {
   "cell_type": "code",
   "execution_count": null,
   "id": "ddd24c32",
   "metadata": {},
   "outputs": [],
   "source": [
    "# geo mapping dictionary"
   ]
  },
  {
   "cell_type": "markdown",
   "id": "f39231a7",
   "metadata": {},
   "source": [
    "Now let's look at the geographical data for the other data set and see how this matches. "
   ]
  },
  {
   "cell_type": "code",
   "execution_count": 48,
   "id": "41d2355a",
   "metadata": {},
   "outputs": [
    {
     "name": "stdout",
     "output_type": "stream",
     "text": [
      "16\n"
     ]
    }
   ],
   "source": [
    "stripped_recent = data_recent[\"Admin Level 4 (Locality)\"].str.strip()\n",
    "# print(len(stripped_recent))\n",
    "difference = set(stripped_recent) - set(external_admin)\n",
    "print(len(difference))"
   ]
  },
  {
   "cell_type": "markdown",
   "id": "49d85369",
   "metadata": {},
   "source": [
    "So this list matches far closer with only 16 values to change in the mapping dictionary, let's change this now before looking at lat/lon matches, by creating a mapping dictionary."
   ]
  },
  {
   "cell_type": "code",
   "execution_count": null,
   "id": "1aabd5c6",
   "metadata": {},
   "outputs": [],
   "source": [
    "# geo mapping dictionary"
   ]
  },
  {
   "cell_type": "markdown",
   "id": "205d7346",
   "metadata": {},
   "source": [
    "Finally for Geographical data cleaning we need to check the postal admin information and ensure that this is accurate. "
   ]
  },
  {
   "cell_type": "code",
   "execution_count": null,
   "id": "f2bb96c8",
   "metadata": {},
   "outputs": [],
   "source": [
    "# postal admin column cleaning"
   ]
  },
  {
   "cell_type": "markdown",
   "id": "4e9965af",
   "metadata": {},
   "source": [
    "After this we can start to look at some of the values contained within the data set. The first data set provides information on:\n",
    "<br>\n",
    "<br>1) Information about an individual such as location, name, age and sex.\n",
    "<br>2) Information about this individual's economic situation such as different sources of income\n",
    "<br>3) Information about this individual's social and healthcare circumstances, such as disability and whether they have experienced war.\n",
    "\n",
    "For some initial exploratory analysis we can: \n",
    "<br> \n",
    "<br>1) Look at the proportion of individuals based on their location\n",
    "<br>2) Explore individuals by their economic situation and see which types of income are most highly represented\n",
    "<br>3) Look at a specific social/healthcare circumstance and see if this is linked to their location"
   ]
  },
  {
   "cell_type": "code",
   "execution_count": 49,
   "id": "f55bb895",
   "metadata": {},
   "outputs": [
    {
     "data": {
      "text/plain": [
       "([0, 1, 2, 3, 4, 5, 6, 7, 8, 9],\n",
       " [Text(0, 0, 'Meluluca'),\n",
       "  Text(1, 0, 'Choulue'),\n",
       "  Text(2, 0, 'Milamba'),\n",
       "  Text(3, 0, 'Caramaja Napome'),\n",
       "  Text(4, 0, 'Muaja'),\n",
       "  Text(5, 0, 'Cholue'),\n",
       "  Text(6, 0, 'Salaua'),\n",
       "  Text(7, 0, 'Metoro'),\n",
       "  Text(8, 0, 'Mecolene'),\n",
       "  Text(9, 0, 'Maueia')])"
      ]
     },
     "execution_count": 49,
     "metadata": {},
     "output_type": "execute_result"
    },
    {
     "data": {
      "image/png": "[encoded data removed]",
      "text/plain": [
       "<Figure size 1000x500 with 1 Axes>"
      ]
     },
     "metadata": {},
     "output_type": "display_data"
    }
   ],
   "source": [
    "value_counts = data_old[\"Admin level 5\"].value_counts()\n",
    "location_df = pd.DataFrame(value_counts).reset_index()\n",
    "location_df.columns = [\"Region\", \"Count\"]\n",
    "fig = plt.figure(figsize = (10, 5))\n",
    "plt.bar(x = location_df[\"Region\"].head(10), height = location_df[\"Count\"].head(10), color = \"darkslategrey\")\n",
    "plt.xlabel(\"Region\")\n",
    "plt.ylabel(\"No. of Participants\")\n",
    "plt.title(\"Top 10 Regions for Participants\")\n",
    "plt.xticks(rotation=45)\n"
   ]
  },
  {
   "cell_type": "code",
   "execution_count": 50,
   "id": "0d90e773",
   "metadata": {},
   "outputs": [
    {
     "data": {
      "text/plain": [
       "Text(0.5, 1.1, 'Proportion of Main Source of Income')"
      ]
     },
     "execution_count": 50,
     "metadata": {},
     "output_type": "execute_result"
    },
    {
     "data": {
      "text/plain": [
       "<Figure size 1000x500 with 0 Axes>"
      ]
     },
     "metadata": {},
     "output_type": "display_data"
    },
    {
     "data": {
      "image/png": "[encoded data removed]",
      "text/plain": [
       "<Figure size 640x480 with 1 Axes>"
      ]
     },
     "metadata": {},
     "output_type": "display_data"
    }
   ],
   "source": [
    "#print(data_old.columns)\n",
    "income_type_columns = ['Main source of income = Agriculture', \n",
    "                       'Main source of income = Domestic animals',      \n",
    "                       'Main source of income = Working with a contract',\n",
    "                       'Main source of income = Small local businesses',\n",
    "                       'Main source of income = Day worker', \n",
    "                       'Main source of income = Other']\n",
    "income_df = data_old[income_type_columns].sum()\n",
    "income_df2 = pd.DataFrame(income_df).reset_index()\n",
    "income_df2.columns =[\"Income Type\", \"Sum\"]\n",
    "fig = plt.figure(figsize = (10, 5))\n",
    "explode = (0.1, 0, 0, 0, 0, 0)\n",
    "colors = ['#0C2C52','#5F6B61','#5E9DC8','#DCF0F7', '#336699', '#C0C0C0']\n",
    "fig1, ax1 = plt.subplots()\n",
    "ax1.pie(income_df2[\"Sum\"], explode=explode, labels=income_df2[\"Income Type\"], colors=colors, autopct='%1.1f%%',\n",
    "        shadow=False, startangle=90)\n",
    "ax1.axis('equal')\n",
    "plt.title(\"Proportion of Main Source of Income\", y=1.10)"
   ]
  },
  {
   "cell_type": "markdown",
   "id": "a2f37d3b",
   "metadata": {},
   "source": [
    "In order to identify the specific social/healthcare circumstance we need an accurate translation from Oikos. "
   ]
  },
  {
   "cell_type": "code",
   "execution_count": null,
   "id": "0f4ac8c5",
   "metadata": {},
   "outputs": [],
   "source": [
    "# social/healthcare cirucmstance visuals"
   ]
  },
  {
   "cell_type": "markdown",
   "id": "3424135f",
   "metadata": {},
   "source": [
    "# Second Data Set\n",
    "Now we can look at the second data set and conduct an initial exploratory analysis. Alongside undertaking geographical cleaning, let's look at: \n",
    "<br>\n",
    "<br>1) Individuals with a family\n",
    "<br>2) Life improvement variables \n",
    "<br>3) IPM health indicators "
   ]
  },
  {
   "cell_type": "code",
   "execution_count": 67,
   "id": "791f0af4",
   "metadata": {},
   "outputs": [],
   "source": [
    "# Geographical cleaning"
   ]
  },
  {
   "cell_type": "code",
   "execution_count": 70,
   "id": "fef329e0",
   "metadata": {},
   "outputs": [],
   "source": [
    "# Individuals with a family visual"
   ]
  },
  {
   "cell_type": "code",
   "execution_count": 71,
   "id": "e5e31a23",
   "metadata": {},
   "outputs": [],
   "source": [
    "# Life improvement visual"
   ]
  },
  {
   "cell_type": "code",
   "execution_count": null,
   "id": "b4e656f1",
   "metadata": {},
   "outputs": [],
   "source": [
    "# IMP health indicator visuals"
   ]
  },
  {
   "cell_type": "markdown",
   "id": "c23c100b",
   "metadata": {},
   "source": [
    "# Merge data sets\n",
    "<br>\n",
    "<br>Following discussion with the team it was highlighted that both spreadsheets can be merged on the \"code of beneficiary\" column, though there are codes not present in both. Let's do this now. \n",
    "<br>\n",
    "<br>1) Select and clean column titles\n",
    "<br>2) Merge on \"code\" column\n",
    "<br>3) Check merge is accurate"
   ]
  },
  {
   "cell_type": "code",
   "execution_count": 61,
   "id": "f8910a30",
   "metadata": {},
   "outputs": [],
   "source": [
    "old_columns = [\"Code of Beneficiary: 5 numbers (ZDBBB = Z (Zone number), D(District number), BBB (Beneficiary within that district)\",\n",
    "               'Number of chickens in th HH\\nPosible categories (as in the next 5 questions): 1-5/6-10/>10',\n",
    "               'Number of cows in th HH',\n",
    "               'Number of ducks in th HH',\n",
    "               'Number of goats in th HH',\n",
    "               'Number of rabbits in th HH']\n",
    "\n",
    "data_old_selected = data_old[old_columns]\n",
    "data_old_selected = data_old_selected.rename(columns={'Code of Beneficiary: 5 numbers (ZDBBB = Z (Zone number), D(District number), BBB (Beneficiary within that district)': 'Beneficiary Code',\n",
    "                                                      'Number of chickens in th HH\\nPosible categories (as in the next 5 questions): 1-5/6-10/>10': 'Chicken',\n",
    "                                                      'Number of cows in th HH': \"Cows\",\n",
    "                                                      'Number of ducks in th HH': \"Ducks\",\n",
    "                                                      'Number of goats in th HH': \"Goats\",\n",
    "                                                      'Number of ducks in th HH': \"Ducks\",\n",
    "                                                      'Number of rabbits in th HH': \"Rabits\"})\n",
    "\n",
    "recent_columns = [\"Beneficiary Code\",\n",
    "                  \"Chicken\",\n",
    "                  \"Goats\",\n",
    "                  \"Cows\",\n",
    "                  \"Ducks\",\n",
    "                  \"Rabits\"]\n",
    "\n",
    "data_recent_selected = data_recent[recent_columns]"
   ]
  },
  {
   "cell_type": "code",
   "execution_count": 75,
   "id": "65e845fa",
   "metadata": {},
   "outputs": [
    {
     "name": "stdout",
     "output_type": "stream",
     "text": [
      "      Beneficiary Code Chicken Goats Cows Ducks Rabits  Beneficiary Code  \\\n",
      "0              21019.0     >10   1-5  NaN   NaN    NaN             31204   \n",
      "1              21029.0     >10   NaN  NaN   NaN    NaN             31203   \n",
      "2              21009.0     >10  6-10  NaN   NaN    NaN             31101   \n",
      "3              21025.0    6-10   NaN  NaN   NaN    NaN             31200   \n",
      "4              21021.0     NaN   NaN  NaN   1-5    NaN             23068   \n",
      "...                ...     ...   ...  ...   ...    ...               ...   \n",
      "1443           23209.0     1-5   NaN  NaN   NaN    NaN             25140   \n",
      "1444           23263.0     NaN   NaN  NaN   NaN    NaN             35169   \n",
      "1445           22259.0    6-10   NaN  NaN   NaN    NaN             35167   \n",
      "1446           22377.0    6-10   NaN  NaN   NaN    NaN             35168   \n",
      "1447           22252.0     >10   NaN  NaN   NaN    NaN             35065   \n",
      "\n",
      "     Chicken Cows Ducks Goats Rabits  \n",
      "0        1-5  NaN   NaN   NaN    NaN  \n",
      "1        1-5  NaN   NaN   NaN    NaN  \n",
      "2        NaN  NaN   NaN   NaN    NaN  \n",
      "3        NaN  NaN   NaN   NaN    NaN  \n",
      "4        NaN  NaN   NaN   NaN    NaN  \n",
      "...      ...  ...   ...   ...    ...  \n",
      "1443     NaN  NaN   NaN   NaN    NaN  \n",
      "1444     1-5  NaN   NaN   NaN    NaN  \n",
      "1445    6-10  NaN   NaN   NaN    NaN  \n",
      "1446     1-5  NaN   NaN   NaN    NaN  \n",
      "1447    6-10  NaN   NaN   NaN    NaN  \n",
      "\n",
      "[1448 rows x 12 columns]\n",
      "1448\n",
      "5722\n"
     ]
    }
   ],
   "source": [
    "result = pd.concat([data_recent_selected, data_old_selected], axis=1).reindex(data_recent_selected.index)\n",
    "print(result)\n",
    "print(len(result))\n",
    "print(len(data_old)+len(data_recent))"
   ]
  },
  {
   "cell_type": "markdown",
   "id": "b2b08a17",
   "metadata": {},
   "source": [
    "From this we can see that there are only 1448 rows that are available across both, a big difference with the number of rows contained in both data sets, though this may not be an issue for the deliverables that "
   ]
  },
  {
   "cell_type": "markdown",
   "id": "eed05386",
   "metadata": {},
   "source": [
    "# Key Questions\n",
    "<br>\n",
    "<br> What are the key indicators that Oikos would find helpful/wants to know\n",
    "<br> Can we have a translation for healthcare information if this is included"
   ]
  }
 ],
 "metadata": {
  "kernelspec": {
   "display_name": "Python 3 (ipykernel)",
   "language": "python",
   "name": "python3"
  },
  "language_info": {
   "codemirror_mode": {
    "name": "ipython",
    "version": 3
   },
   "file_extension": ".py",
   "mimetype": "text/x-python",
   "name": "python",
   "nbconvert_exporter": "python",
   "pygments_lexer": "ipython3",
   "version": "3.10.6"
  }
 },
 "nbformat": 4,
 "nbformat_minor": 5
}
